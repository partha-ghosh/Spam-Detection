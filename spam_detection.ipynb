{
 "cells": [
  {
   "cell_type": "code",
   "execution_count": 1,
   "metadata": {},
   "outputs": [],
   "source": [
    "import torch\n",
    "import torch.nn as nn\n",
    "import torch.nn.functional as F\n",
    "import pandas as pd\n",
    "import unidecode\n",
    "import random\n",
    "import string\n",
    "import matplotlib.pyplot as plt"
   ]
  },
  {
   "cell_type": "code",
   "execution_count": 2,
   "metadata": {
    "scrolled": true
   },
   "outputs": [
    {
     "data": {
      "text/html": [
       "<div>\n",
       "<style scoped>\n",
       "    .dataframe tbody tr th:only-of-type {\n",
       "        vertical-align: middle;\n",
       "    }\n",
       "\n",
       "    .dataframe tbody tr th {\n",
       "        vertical-align: top;\n",
       "    }\n",
       "\n",
       "    .dataframe thead th {\n",
       "        text-align: right;\n",
       "    }\n",
       "</style>\n",
       "<table border=\"1\" class=\"dataframe\">\n",
       "  <thead>\n",
       "    <tr style=\"text-align: right;\">\n",
       "      <th></th>\n",
       "      <th>label</th>\n",
       "      <th>message</th>\n",
       "    </tr>\n",
       "  </thead>\n",
       "  <tbody>\n",
       "    <tr>\n",
       "      <th>0</th>\n",
       "      <td>ham</td>\n",
       "      <td>Go until jurong point, crazy.. Available only ...</td>\n",
       "    </tr>\n",
       "    <tr>\n",
       "      <th>1</th>\n",
       "      <td>ham</td>\n",
       "      <td>Ok lar... Joking wif u oni...</td>\n",
       "    </tr>\n",
       "    <tr>\n",
       "      <th>2</th>\n",
       "      <td>spam</td>\n",
       "      <td>Free entry in 2 a wkly comp to win FA Cup fina...</td>\n",
       "    </tr>\n",
       "    <tr>\n",
       "      <th>3</th>\n",
       "      <td>ham</td>\n",
       "      <td>U dun say so early hor... U c already then say...</td>\n",
       "    </tr>\n",
       "    <tr>\n",
       "      <th>4</th>\n",
       "      <td>ham</td>\n",
       "      <td>Nah I don't think he goes to usf, he lives aro...</td>\n",
       "    </tr>\n",
       "  </tbody>\n",
       "</table>\n",
       "</div>"
      ],
      "text/plain": [
       "  label                                            message\n",
       "0   ham  Go until jurong point, crazy.. Available only ...\n",
       "1   ham                      Ok lar... Joking wif u oni...\n",
       "2  spam  Free entry in 2 a wkly comp to win FA Cup fina...\n",
       "3   ham  U dun say so early hor... U c already then say...\n",
       "4   ham  Nah I don't think he goes to usf, he lives aro..."
      ]
     },
     "execution_count": 2,
     "metadata": {},
     "output_type": "execute_result"
    }
   ],
   "source": [
    "# load data\n",
    "data = pd.read_csv('archive/spam.csv', encoding='latin-1')\n",
    "data = data.iloc[:, :2]\n",
    "data.columns = [\"label\", \"message\"]\n",
    "data.head()"
   ]
  },
  {
   "cell_type": "code",
   "execution_count": 3,
   "metadata": {},
   "outputs": [],
   "source": [
    "# converting to ascii\n",
    "data.iloc[:, 1] = data.iloc[:, 1].apply(lambda x: unidecode.unidecode(x))"
   ]
  },
  {
   "cell_type": "code",
   "execution_count": 4,
   "metadata": {},
   "outputs": [],
   "source": [
    "# ham = 0 and spam = 1\n",
    "data.iloc[:, 0] = data.iloc[:, 0].apply(lambda x: 0 if x == \"ham\" else 1)"
   ]
  },
  {
   "cell_type": "code",
   "execution_count": 5,
   "metadata": {},
   "outputs": [],
   "source": [
    "spams = data[data.iloc[:, 0] == 1]\n",
    "hams = data[data.iloc[:, 0] == 0]"
   ]
  },
  {
   "cell_type": "code",
   "execution_count": 6,
   "metadata": {},
   "outputs": [],
   "source": [
    "# creating train and test set\n",
    "n_test_examples = 50\n",
    "train_spams = spams.iloc[:-n_test_examples]\n",
    "train_hams = hams.iloc[:-n_test_examples]\n",
    "\n",
    "test_spams = spams.iloc[-n_test_examples:]\n",
    "test_hams = hams.iloc[-n_test_examples:]\n",
    "test_examples = pd.concat([test_spams, test_hams])"
   ]
  },
  {
   "cell_type": "code",
   "execution_count": 7,
   "metadata": {},
   "outputs": [],
   "source": [
    "# charset for training\n",
    "charset = string.printable[:-6]\n",
    "charset = {char:index for index, char in enumerate(charset)}"
   ]
  },
  {
   "cell_type": "code",
   "execution_count": 8,
   "metadata": {},
   "outputs": [],
   "source": [
    "def one_hot_char(char):\n",
    "    v = torch.zeros(1, len(charset))\n",
    "    v[0][charset[char]] = 1\n",
    "    return v\n",
    "\n",
    "def one_hot_word(word):\n",
    "    return torch.vstack([one_hot_char(char) for char in word if charset.get(char, None) is not None]).reshape((-1,1,len(charset)))\n",
    "\n",
    "def get_training_example():\n",
    "    random_class_index = random.randint(0, 1)\n",
    "    data = train_spams if random_class_index else train_hams\n",
    "    random_msg_index = random.randint(0, data.shape[0]-1)\n",
    "    return random_class_index, data.iloc[random_msg_index][1]"
   ]
  },
  {
   "cell_type": "code",
   "execution_count": 9,
   "metadata": {},
   "outputs": [],
   "source": [
    "class RNN(nn.Module):\n",
    "    \n",
    "    def __init__(self, input_size_char_rnn, hidden_size_char_rnn, hidden_size_word_rnn, output_size_word_rnn):\n",
    "        super().__init__()\n",
    "        self.hidden_size_char_rnn = hidden_size_char_rnn\n",
    "        self.hidden_size_word_rnn = hidden_size_word_rnn\n",
    "        \n",
    "        self.char_rnn_i2h = nn.Linear(input_size_char_rnn + hidden_size_char_rnn, hidden_size_char_rnn)\n",
    "    \n",
    "        input_size_word_rnn = hidden_size_char_rnn\n",
    "        self.word_rnn_i2h = nn.Linear(input_size_word_rnn + hidden_size_word_rnn, hidden_size_word_rnn)\n",
    "        self.word_rnn_i2o = nn.Linear(input_size_word_rnn + hidden_size_word_rnn, output_size_word_rnn)\n",
    "        \n",
    "        self.softmax = nn.LogSoftmax(dim=1)\n",
    "    \n",
    "    def forward(self, input_tensor_word_rnn, hidden_tensor_word_rnn):\n",
    "        hidden_char_rnn = torch.zeros(1, self.hidden_size_char_rnn)\n",
    "        \n",
    "        for char in input_tensor_word_rnn:\n",
    "            hidden_char_rnn = self.forward_for_char_rnn(char, hidden_char_rnn)\n",
    "            \n",
    "        concat_input = torch.cat((hidden_char_rnn, hidden_tensor_word_rnn), dim=1)\n",
    "            \n",
    "        hidden_word_rnn = self.word_rnn_i2h(concat_input)\n",
    "        \n",
    "        output = self.word_rnn_i2o(concat_input)\n",
    "        output = self.softmax(output)\n",
    "        \n",
    "        return output, hidden_word_rnn\n",
    "    \n",
    "    \n",
    "    def forward_for_char_rnn(self, input_tensor, hidden_tensor):\n",
    "        concat_input = torch.cat((input_tensor, hidden_tensor), dim=1)\n",
    "\n",
    "        hidden = self.char_rnn_i2h(concat_input)\n",
    "\n",
    "        return hidden"
   ]
  },
  {
   "cell_type": "code",
   "execution_count": 10,
   "metadata": {},
   "outputs": [],
   "source": [
    "input_size_char_rnn = len(charset) \n",
    "hidden_size_char_rnn = 256\n",
    "hidden_size_word_rnn = 384\n",
    "output_size_word_rnn = 2\n",
    "learning_rate = 0.0001"
   ]
  },
  {
   "cell_type": "code",
   "execution_count": 11,
   "metadata": {},
   "outputs": [],
   "source": [
    "rnn = RNN(input_size_char_rnn, hidden_size_char_rnn, hidden_size_word_rnn, output_size_word_rnn)\n",
    "loss_fn = nn.NLLLoss()\n",
    "optimizer = torch.optim.Adam(rnn.parameters(), lr=learning_rate)"
   ]
  },
  {
   "cell_type": "code",
   "execution_count": 12,
   "metadata": {},
   "outputs": [],
   "source": [
    "def train(label, msg):\n",
    "\n",
    "    hidden_word_rnn = torch.zeros(1, hidden_size_word_rnn)\n",
    "\n",
    "    for word in msg.split(' '):\n",
    "        if word:\n",
    "            output, hidden_word_rnn = rnn(one_hot_word(word), hidden_word_rnn)\n",
    "\n",
    "    loss = loss_fn(output, torch.tensor([label]))\n",
    "\n",
    "    optimizer.zero_grad()\n",
    "    loss.backward()\n",
    "    optimizer.step()\n",
    "\n",
    "    return output, loss.item()"
   ]
  },
  {
   "cell_type": "code",
   "execution_count": 13,
   "metadata": {},
   "outputs": [],
   "source": [
    "def test():\n",
    "    n_total = test_examples.shape[0]\n",
    "    n_correct = 0\n",
    "    with torch.no_grad():\n",
    "        for i in range(n_total):\n",
    "            hidden_word_rnn = torch.zeros(1, hidden_size_word_rnn)\n",
    "            for word in test_examples.iloc[i][1].split(' '):\n",
    "                if word:\n",
    "                    output, hidden_word_rnn = rnn(one_hot_word(word), hidden_word_rnn)\n",
    "            predicted_class = torch.argmax(output).item()\n",
    "            if predicted_class == test_examples.iloc[i][0]:\n",
    "                n_correct += 1\n",
    "    accuracy = n_correct/n_total\n",
    "    print('Accuracy:', accuracy)\n",
    "    return accuracy"
   ]
  },
  {
   "cell_type": "code",
   "execution_count": 14,
   "metadata": {
    "scrolled": true
   },
   "outputs": [
    {
     "name": "stdout",
     "output_type": "stream",
     "text": [
      "Accuracy: 0.5\n",
      "Accuracy: 0.9\n",
      "1000 2.0 0.3857 | Original: 0 | Predicted: 0\n",
      "Accuracy: 0.87\n",
      "2000 4.0 0.2928 | Original: 0 | Predicted: 0\n",
      "Accuracy: 0.98\n",
      "3000 6.0 0.2120 | Original: 1 | Predicted: 0\n",
      "Accuracy: 0.9\n",
      "4000 8.0 0.1823 | Original: 1 | Predicted: 1\n",
      "Accuracy: 0.98\n",
      "5000 10.0 0.1103 | Original: 1 | Predicted: 1\n",
      "Accuracy: 0.93\n",
      "6000 12.0 0.1743 | Original: 1 | Predicted: 0\n",
      "Accuracy: 0.99\n",
      "7000 14.0 0.1218 | Original: 0 | Predicted: 0\n",
      "Accuracy: 0.93\n",
      "8000 16.0 0.1875 | Original: 0 | Predicted: 0\n",
      "Accuracy: 0.97\n",
      "9000 18.0 0.0852 | Original: 1 | Predicted: 1\n",
      "Accuracy: 0.99\n",
      "10000 20.0 0.1536 | Original: 0 | Predicted: 0\n",
      "Accuracy: 0.96\n",
      "11000 22.0 0.1196 | Original: 0 | Predicted: 0\n",
      "Accuracy: 0.93\n",
      "12000 24.0 0.1297 | Original: 1 | Predicted: 1\n",
      "Accuracy: 0.94\n",
      "13000 26.0 0.1111 | Original: 0 | Predicted: 0\n",
      "Accuracy: 0.94\n",
      "14000 28.0 0.0852 | Original: 1 | Predicted: 1\n",
      "Accuracy: 0.9\n",
      "15000 30.0 0.0966 | Original: 1 | Predicted: 1\n",
      "Accuracy: 0.92\n",
      "16000 32.0 0.0962 | Original: 1 | Predicted: 1\n",
      "Accuracy: 0.95\n",
      "17000 34.0 0.1076 | Original: 0 | Predicted: 1\n",
      "Accuracy: 0.98\n",
      "18000 36.0 0.0823 | Original: 0 | Predicted: 0\n",
      "Accuracy: 0.88\n",
      "19000 38.0 0.0867 | Original: 0 | Predicted: 0\n",
      "Accuracy: 0.93\n",
      "20000 40.0 0.0514 | Original: 0 | Predicted: 0\n",
      "Accuracy: 0.94\n",
      "21000 42.0 0.1611 | Original: 0 | Predicted: 1\n",
      "Accuracy: 0.95\n",
      "22000 44.0 0.0952 | Original: 0 | Predicted: 0\n",
      "Accuracy: 0.95\n",
      "23000 46.0 0.0868 | Original: 0 | Predicted: 0\n",
      "Accuracy: 0.95\n",
      "24000 48.0 0.0443 | Original: 1 | Predicted: 1\n",
      "Accuracy: 0.97\n",
      "25000 50.0 0.0373 | Original: 0 | Predicted: 0\n",
      "Accuracy: 0.94\n",
      "26000 52.0 0.0973 | Original: 1 | Predicted: 1\n",
      "Accuracy: 0.94\n",
      "27000 54.0 0.0749 | Original: 0 | Predicted: 0\n",
      "Accuracy: 0.96\n",
      "28000 56.0 0.0342 | Original: 1 | Predicted: 1\n",
      "Accuracy: 0.95\n",
      "29000 58.0 0.5550 | Original: 0 | Predicted: 1\n",
      "Accuracy: 0.97\n",
      "30000 60.0 0.0695 | Original: 1 | Predicted: 1\n",
      "Accuracy: 0.96\n",
      "31000 62.0 0.0722 | Original: 0 | Predicted: 0\n",
      "Accuracy: 0.95\n",
      "32000 64.0 0.0358 | Original: 1 | Predicted: 1\n",
      "Accuracy: 0.95\n",
      "33000 66.0 0.0441 | Original: 0 | Predicted: 0\n",
      "Accuracy: 0.98\n",
      "34000 68.0 0.0184 | Original: 0 | Predicted: 0\n",
      "Accuracy: 0.95\n",
      "35000 70.0 0.0223 | Original: 0 | Predicted: 0\n",
      "Accuracy: 0.95\n",
      "36000 72.0 0.0443 | Original: 1 | Predicted: 1\n",
      "Accuracy: 0.91\n",
      "37000 74.0 0.0259 | Original: 1 | Predicted: 1\n",
      "Accuracy: 0.96\n",
      "38000 76.0 0.0512 | Original: 1 | Predicted: 1\n",
      "Accuracy: 0.98\n",
      "39000 78.0 0.0093 | Original: 0 | Predicted: 0\n",
      "Accuracy: 0.97\n",
      "40000 80.0 0.0529 | Original: 0 | Predicted: 0\n",
      "Accuracy: 0.95\n",
      "41000 82.0 0.0965 | Original: 1 | Predicted: 1\n",
      "Accuracy: 0.97\n",
      "42000 84.0 0.0236 | Original: 0 | Predicted: 0\n",
      "Accuracy: 0.95\n",
      "43000 86.0 0.0253 | Original: 0 | Predicted: 0\n",
      "Accuracy: 0.94\n",
      "44000 88.0 0.0207 | Original: 1 | Predicted: 1\n",
      "Accuracy: 0.94\n",
      "45000 90.0 0.0357 | Original: 1 | Predicted: 1\n",
      "Accuracy: 0.94\n",
      "46000 92.0 0.0290 | Original: 1 | Predicted: 1\n",
      "Accuracy: 0.97\n",
      "47000 94.0 0.0183 | Original: 0 | Predicted: 0\n",
      "Accuracy: 0.95\n",
      "48000 96.0 0.0205 | Original: 1 | Predicted: 1\n",
      "Accuracy: 0.96\n",
      "49000 98.0 0.0164 | Original: 1 | Predicted: 1\n",
      "Accuracy: 0.94\n",
      "50000 100.0 0.0495 | Original: 0 | Predicted: 0\n"
     ]
    }
   ],
   "source": [
    "rolling_loss = 0\n",
    "all_loses = []\n",
    "accuracies = [test()]\n",
    "plot_steps = 200\n",
    "print_steps = 1000\n",
    "n_iters = 50000\n",
    "\n",
    "for i in range(n_iters):\n",
    "    print(i, end='\\r')\n",
    "    label, msg = get_training_example()\n",
    "    \n",
    "    output, loss = train(label, msg)\n",
    "        \n",
    "    rolling_loss = (1 - 1/plot_steps) * rolling_loss + (1/plot_steps) * loss\n",
    "    \n",
    "    if (i+1) % plot_steps == 0:\n",
    "        all_loses.append(rolling_loss)\n",
    "        \n",
    "    \n",
    "    if (i+1) % print_steps == 0:\n",
    "        accuracies.append(test())\n",
    "        predicted_class = torch.argmax(output).item()\n",
    "        print(f\"{i+1} {(i+1) * 100 / n_iters}% {rolling_loss:.4f} | Original: {label} | Predicted: {predicted_class}\")"
   ]
  },
  {
   "cell_type": "code",
   "execution_count": 15,
   "metadata": {},
   "outputs": [
    {
     "data": {
      "image/png": "[encoded data removed]",
      "text/plain": [
       "<Figure size 432x288 with 1 Axes>"
      ]
     },
     "metadata": {
      "needs_background": "light"
     },
     "output_type": "display_data"
    }
   ],
   "source": [
    "plt.figure()\n",
    "plt.plot(all_loses)\n",
    "plt.show()"
   ]
  },
  {
   "cell_type": "code",
   "execution_count": 16,
   "metadata": {},
   "outputs": [
    {
     "data": {
      "image/png": "[encoded data removed]",
      "text/plain": [
       "<Figure size 432x288 with 1 Axes>"
      ]
     },
     "metadata": {
      "needs_background": "light"
     },
     "output_type": "display_data"
    }
   ],
   "source": [
    "plt.figure()\n",
    "plt.plot(accuracies)\n",
    "plt.show()"
   ]
  }
 ],
 "metadata": {
  "kernelspec": {
   "display_name": "Python 3",
   "language": "python",
   "name": "python3"
  },
  "language_info": {
   "codemirror_mode": {
    "name": "ipython",
    "version": 3
   },
   "file_extension": ".py",
   "mimetype": "text/x-python",
   "name": "python",
   "nbconvert_exporter": "python",
   "pygments_lexer": "ipython3",
   "version": "3.9.1"
  }
 },
 "nbformat": 4,
 "nbformat_minor": 4
}
